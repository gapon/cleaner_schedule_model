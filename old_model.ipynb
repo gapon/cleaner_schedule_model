{
 "cells": [
  {
   "cell_type": "code",
   "execution_count": 11,
   "metadata": {},
   "outputs": [
    {
     "name": "stdout",
     "output_type": "stream",
     "text": [
      "64519 train samples loaded\n"
     ]
    }
   ],
   "source": [
    "from sklearn.ensemble import GradientBoostingClassifier\n",
    "from sklearn.cross_validation import KFold, cross_val_score\n",
    "from sklearn.metrics import roc_auc_score\n",
    "from sklearn.preprocessing import LabelEncoder, OneHotEncoder\n",
    "import numpy as np\n",
    "import time\n",
    "import datetime\n",
    "import pandas as pd\n",
    "\n",
    "#features = read_csv('train/regions-2017-04-17.csv', header = 0)\n",
    "\n",
    "data1 = pd.read_csv('train/nan-49.csv', header = 0)\n",
    "data2 = pd.read_csv('train/nan-42.csv', header = 0)\n",
    "data3 = pd.read_csv('train/nan-35.csv', header = 0)\n",
    "data4 = pd.read_csv('train/nan-28.csv', header = 0)\n",
    "data5 = pd.read_csv('train/nan-21.csv', header = 0)\n",
    "data6 = pd.read_csv('train/nan-14.csv', header = 0)\n",
    "data7 = pd.read_csv('train/nan-0.csv', header = 0)\n",
    "data8 = pd.read_csv('train/regions-2017-05-01.csv', header = 0)\n",
    "data9 = pd.read_csv('train/regions-2017-04-24.csv', header = 0)\n",
    "\n",
    "features = data1.append(data2, ignore_index=True)\n",
    "features = features.append(data3, ignore_index=True)\n",
    "features = features.append(data4, ignore_index=True)\n",
    "features = features.append(data5, ignore_index=True)\n",
    "features = features.append(data6, ignore_index=True)\n",
    "features = features.append(data7, ignore_index=True)\n",
    "features = features.append(data8, ignore_index=True)\n",
    "features = features.append(data9, ignore_index=True)\n",
    "\n",
    "#frames = [data1, data2]\n",
    "#result = pd.concat(frames, ignore_index=True)\n",
    "\n",
    "\n",
    "X = features.drop(['master_id','worked'], axis=1)\n",
    "y = features['worked']\n",
    "print('{0} train samples loaded'.format(len(X)))"
   ]
  },
  {
   "cell_type": "markdown",
   "metadata": {},
   "source": [
    "# Preprocessing\n",
    "### Fill na"
   ]
  },
  {
   "cell_type": "code",
   "execution_count": 12,
   "metadata": {
    "collapsed": true
   },
   "outputs": [],
   "source": [
    "def preprocessing_fillna(df):\n",
    "    df['days_since_last_dow_order'] = df['days_since_last_dow_order'].fillna(df['days_since_last_dow_order'].mean())\n",
    "    df = df.fillna(0)\n",
    "    return df\n",
    "    \n",
    "X = preprocessing_fillna(X)"
   ]
  },
  {
   "cell_type": "markdown",
   "metadata": {},
   "source": [
    "### One hot coding"
   ]
  },
  {
   "cell_type": "code",
   "execution_count": 13,
   "metadata": {
    "collapsed": true
   },
   "outputs": [],
   "source": [
    "def preprocessing_one_hot_coding(df, col_name):\n",
    "    ohe = OneHotEncoder(sparse=False)\n",
    "    encoded_col = ohe.fit_transform(df[col_name].values.reshape(-1, 1))\n",
    "    tmp = pd.DataFrame(encoded_col, columns=[col_name + str(i) for i in range(encoded_col.shape[1])], index = df.index)\n",
    "    df = pd.concat([df, tmp], axis = 1)\n",
    "    df = df.drop([col_name], axis = 1)\n",
    "    return df\n",
    "\n",
    "X = preprocessing_one_hot_coding(X, 'dow')\n",
    "\n"
   ]
  },
  {
   "cell_type": "markdown",
   "metadata": {},
   "source": [
    "# Hiperparameters Fitting"
   ]
  },
  {
   "cell_type": "code",
   "execution_count": 17,
   "metadata": {},
   "outputs": [
    {
     "name": "stdout",
     "output_type": "stream",
     "text": [
      "\n",
      "Gradient boosting fitting:\n",
      "Trees 10, Time to fit: 0:00:05.786110, ROC-AUC: 0.8449358302883923\n",
      "Trees 20, Time to fit: 0:00:08.710379, ROC-AUC: 0.8513433607143608\n",
      "Trees 30, Time to fit: 0:00:12.083420, ROC-AUC: 0.8537005372654004\n",
      "Trees 40, Time to fit: 0:00:14.964632, ROC-AUC: 0.8549649029470672\n",
      "Trees 50, Time to fit: 0:00:17.810534, ROC-AUC: 0.8557222271274421\n",
      "Trees 100, Time to fit: 0:00:32.687355, ROC-AUC: 0.858499886876776\n",
      "Trees 200, Time to fit: 0:01:09.840109, ROC-AUC: 0.8614241208655683\n",
      "Trees 300, Time to fit: 0:01:44.775418, ROC-AUC: 0.8631823057486023\n"
     ]
    }
   ],
   "source": [
    "folds = 5\n",
    "kf = KFold(len(X), folds, shuffle=True, random_state=42)\n",
    "trees = [10, 20, 30, 40, 50, 100, 200, 300]\n",
    "\n",
    "print()\n",
    "print('Gradient boosting fitting:')\n",
    "\n",
    "for t in trees:\n",
    "    start_time = datetime.datetime.now()\n",
    "    gb_clf = GradientBoostingClassifier(learning_rate=0.2, n_estimators=t, verbose=False, random_state=241)\n",
    "    scores = cross_val_score(gb_clf, X=X, y=y, scoring='roc_auc', cv=kf)\n",
    "    time_to_fit = datetime.datetime.now() - start_time\n",
    "    print('Trees {0}, Time to fit: {1}, ROC-AUC: {2}'.format(t, time_to_fit, scores.mean()))"
   ]
  },
  {
   "cell_type": "markdown",
   "metadata": {},
   "source": [
    "# Model Fitting"
   ]
  },
  {
   "cell_type": "code",
   "execution_count": 14,
   "metadata": {},
   "outputs": [
    {
     "name": "stdout",
     "output_type": "stream",
     "text": [
      "                     features  importance\n",
      "29                    new_flg    0.000000\n",
      "26                    mol_flg    0.000000\n",
      "27                        msk    0.000000\n",
      "28                   mytarget    0.000000\n",
      "42                        spb    0.000000\n",
      "40                    rus_flg    0.000000\n",
      "4                    asia_flg    0.000000\n",
      "1                     admitad    0.000000\n",
      "19                        ekb    0.000000\n",
      "47                    ukr_flg    0.000385\n",
      "15                   crm_hire    0.000393\n",
      "23              iz_ruk_v_ruki    0.000514\n",
      "37          rabota_i_zarplata    0.000531\n",
      "22                   internet    0.000748\n",
      "46                 tradeleads    0.000864\n",
      "20                     google    0.001048\n",
      "48                     vk_cpc    0.001120\n",
      "56                       dow4    0.001120\n",
      "44                 targetmail    0.001229\n",
      "0                   actionpay    0.001325\n",
      "38      rabota_ucheba_service    0.001498\n",
      "14                cpaexchange    0.001532\n",
      "51                    ydirect    0.001639\n",
      "13                    cityads    0.001864\n",
      "50                     yandex    0.001960\n",
      "21                 hi_brother    0.002342\n",
      "54                       dow2    0.002636\n",
      "43                    spe_flg    0.002722\n",
      "10                    blr_flg    0.002737\n",
      "35                    pro_flg    0.002925\n",
      "41                  site_hire    0.003532\n",
      "57                       dow5    0.003588\n",
      "53                       dow1    0.003596\n",
      "36            rabota_dlya_vas    0.004523\n",
      "58                       dow6    0.004528\n",
      "52                       dow0    0.004894\n",
      "55                       dow3    0.008216\n",
      "11             busy_afternoon    0.009288\n",
      "9            blacklists_count    0.014652\n",
      "30                no_schedule    0.015417\n",
      "32                  orders_2w    0.017737\n",
      "2                         age    0.019846\n",
      "49           whitelists_count    0.022675\n",
      "12               busy_morning    0.024324\n",
      "31                  orders_1w    0.024929\n",
      "33                  orders_3w    0.025108\n",
      "34                  orders_4w    0.029248\n",
      "39                     rating    0.040802\n",
      "6               avg_real_time    0.044606\n",
      "7                   avg_rooms    0.045194\n",
      "8                    avg_time    0.046580\n",
      "25                        lng    0.048190\n",
      "24                        lat    0.048541\n",
      "17                 dow_worked    0.052867\n",
      "3                  all_orders    0.058155\n",
      "45                  total_dow    0.066147\n",
      "5                    avg_dist    0.070015\n",
      "18             dow_worked_prc    0.101104\n",
      "16  days_since_last_dow_order    0.110569\n"
     ]
    },
    {
     "name": "stderr",
     "output_type": "stream",
     "text": [
      "/Users/gapon/anaconda3/lib/python3.5/site-packages/ipykernel/__main__.py:7: FutureWarning: sort(columns=....) is deprecated, use sort_values(by=.....)\n"
     ]
    }
   ],
   "source": [
    "final_gb_clf = GradientBoostingClassifier(learning_rate=0.2, n_estimators=200, verbose=False, random_state=241)\n",
    "final_gb_clf.fit(X, y)\n",
    "\n",
    "coeff = final_gb_clf.feature_importances_\n",
    "names = X.columns.values\n",
    "df = pd.DataFrame({'features':names, 'importance':coeff})\n",
    "print(df.sort('importance'))"
   ]
  },
  {
   "cell_type": "markdown",
   "metadata": {},
   "source": [
    "# Тестирование модели на отложенной выборке"
   ]
  },
  {
   "cell_type": "code",
   "execution_count": 57,
   "metadata": {
    "collapsed": true
   },
   "outputs": [],
   "source": [
    "test_data = pd.read_csv('train/nan-7.csv', header = 0)\n",
    "\n",
    "X_test = test_data.drop(['master_id','worked'], axis=1)\n",
    "y_test = test_data['worked']\n",
    "\n",
    "# Preprocessing\n",
    "X_test = preprocessing_fillna(X_test)\n",
    "X_test = preprocessing_one_hot_coding(X_test, 'dow')"
   ]
  },
  {
   "cell_type": "code",
   "execution_count": 58,
   "metadata": {},
   "outputs": [
    {
     "name": "stdout",
     "output_type": "stream",
     "text": [
      "0.877626541806\n"
     ]
    }
   ],
   "source": [
    "from sklearn.metrics import roc_auc_score\n",
    "y_pred = final_gb_clf.predict_proba(X_test)[:,1]\n",
    "\n",
    "print(roc_auc_score(y_test, y_pred))"
   ]
  },
  {
   "cell_type": "markdown",
   "metadata": {},
   "source": [
    "### Bins"
   ]
  },
  {
   "cell_type": "code",
   "execution_count": 29,
   "metadata": {
    "collapsed": true
   },
   "outputs": [],
   "source": [
    "bins = [0.0, 0.1, 0.2, 0.3, 0.4, 0.5, 0.6, 0.7, 0.8, 0.9, 1.0]\n",
    "group_names = ['0-10', '10-20', '20-30', '30-40', '40-50', '50-60', '60-70', '70-80', '80-90', '90-100']\n",
    "\n",
    "categories = pd.cut(y_pred, bins, labels=group_names)\n",
    "\n",
    "df = pd.DataFrame(columns=['y_true', 'y_pred', 'bin'])\n",
    "df['y_true'] = y_test\n",
    "df['y_pred'] = y_pred\n",
    "df['bin'] = categories\n",
    "\n",
    "df.to_csv('bins.csv')"
   ]
  },
  {
   "cell_type": "markdown",
   "metadata": {},
   "source": [
    "# Prediction"
   ]
  },
  {
   "cell_type": "code",
   "execution_count": 15,
   "metadata": {},
   "outputs": [
    {
     "name": "stdout",
     "output_type": "stream",
     "text": [
      "Output in YYYY-MM-DD.csv\n"
     ]
    }
   ],
   "source": [
    "X_test = pd.read_csv('test/data-2017-06-21.csv', index_col=[0,1])\n",
    "\n",
    "# Preprocessing\n",
    "X_test = preprocessing_fillna(X_test)\n",
    "X_test = preprocessing_one_hot_coding(X_test, 'dow')\n",
    "\n",
    "# Prediction\n",
    "df = pd.DataFrame(index=X_test.index, columns=['worked'])\n",
    "df['worked'] = final_gb_clf.predict_proba(X_test)[:,1]\n",
    "df.to_csv('predictions/prediction-2017-06-21-nan.csv')\n",
    "print('Output in YYYY-MM-DD.csv')"
   ]
  },
  {
   "cell_type": "code",
   "execution_count": 28,
   "metadata": {},
   "outputs": [
    {
     "name": "stdout",
     "output_type": "stream",
     "text": [
      "                        worked\n",
      "master_id date                \n",
      "121437    2017-05-21  0.474165\n",
      "          2017-05-22  0.004951\n",
      "          2017-05-23  0.005757\n",
      "          2017-05-17  0.005488\n",
      "          2017-05-18  0.004869\n",
      "          2017-05-19  0.155925\n",
      "          2017-05-20  0.220224\n"
     ]
    }
   ],
   "source": [
    "print(df.iloc[df.index.get_level_values('master_id') == 121437])"
   ]
  },
  {
   "cell_type": "code",
   "execution_count": null,
   "metadata": {
    "collapsed": true
   },
   "outputs": [],
   "source": []
  }
 ],
 "metadata": {
  "kernelspec": {
   "display_name": "Python 3",
   "language": "python",
   "name": "python3"
  },
  "language_info": {
   "codemirror_mode": {
    "name": "ipython",
    "version": 3
   },
   "file_extension": ".py",
   "mimetype": "text/x-python",
   "name": "python",
   "nbconvert_exporter": "python",
   "pygments_lexer": "ipython3",
   "version": "3.5.2"
  }
 },
 "nbformat": 4,
 "nbformat_minor": 1
}
