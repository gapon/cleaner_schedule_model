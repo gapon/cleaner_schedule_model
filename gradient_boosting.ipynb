{
 "cells": [
  {
   "cell_type": "code",
   "execution_count": 1,
   "metadata": {},
   "outputs": [
    {
     "name": "stdout",
     "output_type": "stream",
     "text": [
      "60947 train samples loaded\n"
     ]
    }
   ],
   "source": [
    "from sklearn.ensemble import GradientBoostingClassifier\n",
    "from sklearn.cross_validation import KFold, cross_val_score\n",
    "from sklearn.metrics import roc_auc_score\n",
    "from sklearn.preprocessing import LabelEncoder, OneHotEncoder\n",
    "import numpy as np\n",
    "import time\n",
    "import datetime\n",
    "import pandas as pd\n",
    "\n",
    "#features = read_csv('train/regions-2017-04-17.csv', header = 0)\n",
    "\n",
    "data1 = pd.read_csv('train/regions-2017-03-06.csv', header = 0)\n",
    "data2 = pd.read_csv('train/regions-2017-03-13.csv', header = 0)\n",
    "data3 = pd.read_csv('train/regions-2017-03-20.csv', header = 0)\n",
    "data4 = pd.read_csv('train/regions-2017-03-27.csv', header = 0)\n",
    "data5 = pd.read_csv('train/regions-2017-04-03.csv', header = 0)\n",
    "data6 = pd.read_csv('train/regions-2017-04-10.csv', header = 0)\n",
    "data7 = pd.read_csv('train/regions-2017-04-17.csv', header = 0)\n",
    "data8 = pd.read_csv('train/regions-2017-05-01.csv', header = 0)\n",
    "data9 = pd.read_csv('train/regions-2017-04-24.csv', header = 0)\n",
    "\n",
    "features = data1.append(data2, ignore_index=True)\n",
    "features = features.append(data3, ignore_index=True)\n",
    "features = features.append(data4, ignore_index=True)\n",
    "features = features.append(data5, ignore_index=True)\n",
    "features = features.append(data6, ignore_index=True)\n",
    "features = features.append(data7, ignore_index=True)\n",
    "features = features.append(data8, ignore_index=True)\n",
    "features = features.append(data9, ignore_index=True)\n",
    "\n",
    "#frames = [data1, data2]\n",
    "#result = pd.concat(frames, ignore_index=True)\n",
    "\n",
    "\n",
    "X = features.drop(['master_id','worked'], axis=1)\n",
    "y = features['worked']\n",
    "print('{0} train samples loaded'.format(len(X)))"
   ]
  },
  {
   "cell_type": "code",
   "execution_count": 2,
   "metadata": {
    "collapsed": true
   },
   "outputs": [],
   "source": [
    "ohe = OneHotEncoder(sparse=False)\n",
    "encoded_dow = ohe.fit_transform(X['dow'].values.reshape(-1, 1))\n",
    "tmp = pd.DataFrame(encoded_dow, columns=['dow_' + str(i) for i in range(encoded_dow.shape[1])])\n",
    "X = pd.concat([X, tmp], axis = 1)\n",
    "X = X.drop(['dow'], axis = 1)"
   ]
  },
  {
   "cell_type": "code",
   "execution_count": 65,
   "metadata": {},
   "outputs": [
    {
     "name": "stdout",
     "output_type": "stream",
     "text": [
      "\n",
      "Gradient boosting fitting:\n",
      "Trees 10, Time to fit: 0:00:07.770303, ROC-AUC: 0.8183966764342119\n",
      "Trees 20, Time to fit: 0:00:10.172802, ROC-AUC: 0.8276426880606657\n",
      "Trees 30, Time to fit: 0:00:13.718650, ROC-AUC: 0.8305882008799808\n",
      "Trees 40, Time to fit: 0:00:17.274143, ROC-AUC: 0.8328799253473728\n",
      "Trees 50, Time to fit: 0:00:20.710310, ROC-AUC: 0.8343960374568372\n",
      "Trees 100, Time to fit: 0:00:38.660456, ROC-AUC: 0.8391785034295873\n",
      "Trees 200, Time to fit: 0:01:14.974125, ROC-AUC: 0.8439178100290425\n",
      "Trees 300, Time to fit: 0:01:50.548335, ROC-AUC: 0.8463825606665141\n"
     ]
    }
   ],
   "source": [
    "folds = 5\n",
    "kf = KFold(len(X), folds, shuffle=True, random_state=42)\n",
    "trees = [10, 20, 30, 40, 50, 100, 200, 300]\n",
    "\n",
    "print()\n",
    "print('Gradient boosting fitting:')\n",
    "\n",
    "for t in trees:\n",
    "    start_time = datetime.datetime.now()\n",
    "    gb_clf = GradientBoostingClassifier(learning_rate=0.2, n_estimators=t, verbose=False, random_state=241)\n",
    "    scores = cross_val_score(gb_clf, X=X, y=y, scoring='roc_auc', cv=kf)\n",
    "    time_to_fit = datetime.datetime.now() - start_time\n",
    "    print('Trees {0}, Time to fit: {1}, ROC-AUC: {2}'.format(t, time_to_fit, scores.mean()))"
   ]
  },
  {
   "cell_type": "code",
   "execution_count": 4,
   "metadata": {},
   "outputs": [
    {
     "name": "stdout",
     "output_type": "stream",
     "text": [
      "                     features  importance\n",
      "38              iz_ruk_v_ruki    0.000000\n",
      "20                    new_flg    0.000000\n",
      "34                    admitad    0.000000\n",
      "47                        ekb    0.000000\n",
      "29                 tradeleads    0.000000\n",
      "37      rabota_ucheba_service    0.000000\n",
      "46                        spb    0.000518\n",
      "10                    ukr_flg    0.000543\n",
      "35                     vk_cpc    0.000554\n",
      "41                  actionpay    0.000658\n",
      "12                    mol_flg    0.000759\n",
      "25                 targetmail    0.000808\n",
      "22                    pro_flg    0.001090\n",
      "9                     rus_flg    0.001090\n",
      "52                      dow_4    0.001148\n",
      "13                   asia_flg    0.001213\n",
      "28                   mytarget    0.001265\n",
      "49                      dow_1    0.001305\n",
      "23                   crm_hire    0.001485\n",
      "36                     yandex    0.002233\n",
      "33          rabota_i_zarplata    0.002313\n",
      "31                   internet    0.002355\n",
      "21                    spe_flg    0.002665\n",
      "30                     google    0.002689\n",
      "32                    cityads    0.002689\n",
      "26                    ydirect    0.003164\n",
      "53                      dow_5    0.003247\n",
      "45                        msk    0.003353\n",
      "27                cpaexchange    0.003498\n",
      "40            rabota_dlya_vas    0.003782\n",
      "50                      dow_2    0.004482\n",
      "54                      dow_6    0.004668\n",
      "39                 hi_brother    0.004734\n",
      "11                    blr_flg    0.005842\n",
      "24                  site_hire    0.005944\n",
      "48                      dow_0    0.006685\n",
      "51                      dow_3    0.007015\n",
      "43             busy_afternoon    0.009715\n",
      "8            blacklists_count    0.013255\n",
      "44                no_schedule    0.018853\n",
      "7            whitelists_count    0.021728\n",
      "5                         age    0.026569\n",
      "42               busy_morning    0.030468\n",
      "2                  dow_worked    0.033641\n",
      "6                      rating    0.052231\n",
      "14                        lat    0.054805\n",
      "18                   avg_time    0.056625\n",
      "15                        lng    0.057598\n",
      "19              avg_real_time    0.062343\n",
      "17                  avg_rooms    0.063757\n",
      "1   days_since_last_dow_order    0.067975\n",
      "16                   avg_dist    0.077550\n",
      "3                   total_dow    0.077556\n",
      "4              dow_worked_prc    0.092019\n",
      "0                  all_orders    0.099519\n"
     ]
    },
    {
     "name": "stderr",
     "output_type": "stream",
     "text": [
      "/Users/gapon/anaconda3/lib/python3.5/site-packages/ipykernel/__main__.py:7: FutureWarning: sort(columns=....) is deprecated, use sort_values(by=.....)\n"
     ]
    }
   ],
   "source": [
    "final_gb_clf = GradientBoostingClassifier(learning_rate=0.2, n_estimators=200, verbose=False, random_state=241)\n",
    "final_gb_clf.fit(X, y)\n",
    "\n",
    "coeff = final_gb_clf.feature_importances_\n",
    "names = X.columns.values\n",
    "df = pd.DataFrame({'features':names, 'importance':coeff})\n",
    "print(df.sort('importance'))"
   ]
  },
  {
   "cell_type": "markdown",
   "metadata": {},
   "source": [
    "# Тестирование модели на отложенной выборке"
   ]
  },
  {
   "cell_type": "code",
   "execution_count": 73,
   "metadata": {
    "collapsed": true
   },
   "outputs": [],
   "source": [
    "test_data = read_csv('train/regions-2017-04-24.csv', header = 0)\n",
    "\n",
    "X_test = test_data.drop(['master_id','worked'], axis=1)\n",
    "y_test = test_data['worked']\n",
    "\n",
    "\n",
    "ohe = OneHotEncoder(sparse=False)\n",
    "encoded_dow = ohe.fit_transform(X_test['dow'].values.reshape(-1, 1))\n",
    "tmp = pd.DataFrame(encoded_dow, columns=['dow_' + str(i) for i in range(encoded_dow.shape[1])])\n",
    "X_test = pd.concat([X_test, tmp], axis = 1)\n",
    "X_test = X_test.drop(['dow'], axis = 1)"
   ]
  },
  {
   "cell_type": "code",
   "execution_count": 74,
   "metadata": {},
   "outputs": [
    {
     "name": "stdout",
     "output_type": "stream",
     "text": [
      "0.847328402226\n"
     ]
    }
   ],
   "source": [
    "from sklearn.metrics import roc_auc_score\n",
    "y_pred = final_gb_clf.predict_proba(X_test)[:,1]\n",
    "\n",
    "print(roc_auc_score(y_test, y_pred))"
   ]
  },
  {
   "cell_type": "code",
   "execution_count": 48,
   "metadata": {},
   "outputs": [
    {
     "name": "stdout",
     "output_type": "stream",
     "text": [
      "[90-100, 80-90, 90-100, 80-90, 70-80, ..., 10-20, 10-20, 50-60, 60-70, 10-20]\n",
      "Length: 6119\n",
      "Categories (10, object): [0-10 < 10-20 < 20-30 < 30-40 ... 60-70 < 70-80 < 80-90 < 90-100]\n"
     ]
    }
   ],
   "source": [
    "bins = [0.0, 0.1, 0.2, 0.3, 0.4, 0.5, 0.6, 0.7, 0.8, 0.9, 1.0]\n",
    "group_names = ['0-10', '10-20', '20-30', '30-40', '40-50', '50-60', '60-70', '70-80', '80-90', '90-100']\n",
    "\n",
    "categories = pd.cut(y_pred, bins, labels=group_names)\n",
    "\n",
    "#print(categories)\n",
    "\n",
    "df = DataFrame(columns=['y_true', 'y_pred', 'bin'])\n",
    "df['y_true'] = y_test\n",
    "df['y_pred'] = y_pred\n",
    "df['bin'] = categories\n",
    "#df_work['categories'] = pd.cut(df_work['will_cancel'], bins, labels=group_names)\n",
    "\n",
    "df.to_csv('bins.csv')\n",
    "#print(len(df_work))"
   ]
  },
  {
   "cell_type": "markdown",
   "metadata": {},
   "source": [
    "# Предсказание"
   ]
  },
  {
   "cell_type": "code",
   "execution_count": 7,
   "metadata": {},
   "outputs": [
    {
     "ename": "ValueError",
     "evalue": "Input contains NaN, infinity or a value too large for dtype('float32').",
     "output_type": "error",
     "traceback": [
      "\u001b[0;31m---------------------------------------------------------------------------\u001b[0m",
      "\u001b[0;31mValueError\u001b[0m                                Traceback (most recent call last)",
      "\u001b[0;32m<ipython-input-7-6a7dfe509754>\u001b[0m in \u001b[0;36m<module>\u001b[0;34m()\u001b[0m\n\u001b[1;32m      9\u001b[0m \u001b[0;34m\u001b[0m\u001b[0m\n\u001b[1;32m     10\u001b[0m \u001b[0mdf\u001b[0m \u001b[0;34m=\u001b[0m \u001b[0mpd\u001b[0m\u001b[0;34m.\u001b[0m\u001b[0mDataFrame\u001b[0m\u001b[0;34m(\u001b[0m\u001b[0mindex\u001b[0m\u001b[0;34m=\u001b[0m\u001b[0mX_test\u001b[0m\u001b[0;34m.\u001b[0m\u001b[0mindex\u001b[0m\u001b[0;34m,\u001b[0m \u001b[0mcolumns\u001b[0m\u001b[0;34m=\u001b[0m\u001b[0;34m[\u001b[0m\u001b[0;34m'worked'\u001b[0m\u001b[0;34m]\u001b[0m\u001b[0;34m)\u001b[0m\u001b[0;34m\u001b[0m\u001b[0m\n\u001b[0;32m---> 11\u001b[0;31m \u001b[0mdf\u001b[0m\u001b[0;34m[\u001b[0m\u001b[0;34m'worked'\u001b[0m\u001b[0;34m]\u001b[0m \u001b[0;34m=\u001b[0m \u001b[0mfinal_gb_clf\u001b[0m\u001b[0;34m.\u001b[0m\u001b[0mpredict_proba\u001b[0m\u001b[0;34m(\u001b[0m\u001b[0mX_test\u001b[0m\u001b[0;34m)\u001b[0m\u001b[0;34m[\u001b[0m\u001b[0;34m:\u001b[0m\u001b[0;34m,\u001b[0m\u001b[0;36m1\u001b[0m\u001b[0;34m]\u001b[0m\u001b[0;34m\u001b[0m\u001b[0m\n\u001b[0m\u001b[1;32m     12\u001b[0m \u001b[0mdf\u001b[0m\u001b[0;34m.\u001b[0m\u001b[0mto_csv\u001b[0m\u001b[0;34m(\u001b[0m\u001b[0;34m'predictions/prediction-2017-05-29.csv'\u001b[0m\u001b[0;34m)\u001b[0m\u001b[0;34m\u001b[0m\u001b[0m\n\u001b[1;32m     13\u001b[0m \u001b[0mprint\u001b[0m\u001b[0;34m(\u001b[0m\u001b[0;34m'Output in YYYY-MM-DD.csv'\u001b[0m\u001b[0;34m)\u001b[0m\u001b[0;34m\u001b[0m\u001b[0m\n",
      "\u001b[0;32m/Users/gapon/anaconda3/lib/python3.5/site-packages/sklearn/ensemble/gradient_boosting.py\u001b[0m in \u001b[0;36mpredict_proba\u001b[0;34m(self, X)\u001b[0m\n\u001b[1;32m   1539\u001b[0m             \u001b[0mclasses\u001b[0m \u001b[0mcorresponds\u001b[0m \u001b[0mto\u001b[0m \u001b[0mthat\u001b[0m \u001b[0;32min\u001b[0m \u001b[0mthe\u001b[0m \u001b[0mattribute\u001b[0m\u001b[0;31m \u001b[0m\u001b[0;31m`\u001b[0m\u001b[0mclasses_\u001b[0m\u001b[0;31m`\u001b[0m\u001b[0;34m.\u001b[0m\u001b[0;34m\u001b[0m\u001b[0m\n\u001b[1;32m   1540\u001b[0m         \"\"\"\n\u001b[0;32m-> 1541\u001b[0;31m         \u001b[0mscore\u001b[0m \u001b[0;34m=\u001b[0m \u001b[0mself\u001b[0m\u001b[0;34m.\u001b[0m\u001b[0mdecision_function\u001b[0m\u001b[0;34m(\u001b[0m\u001b[0mX\u001b[0m\u001b[0;34m)\u001b[0m\u001b[0;34m\u001b[0m\u001b[0m\n\u001b[0m\u001b[1;32m   1542\u001b[0m         \u001b[0;32mtry\u001b[0m\u001b[0;34m:\u001b[0m\u001b[0;34m\u001b[0m\u001b[0m\n\u001b[1;32m   1543\u001b[0m             \u001b[0;32mreturn\u001b[0m \u001b[0mself\u001b[0m\u001b[0;34m.\u001b[0m\u001b[0mloss_\u001b[0m\u001b[0;34m.\u001b[0m\u001b[0m_score_to_proba\u001b[0m\u001b[0;34m(\u001b[0m\u001b[0mscore\u001b[0m\u001b[0;34m)\u001b[0m\u001b[0;34m\u001b[0m\u001b[0m\n",
      "\u001b[0;32m/Users/gapon/anaconda3/lib/python3.5/site-packages/sklearn/ensemble/gradient_boosting.py\u001b[0m in \u001b[0;36mdecision_function\u001b[0;34m(self, X)\u001b[0m\n\u001b[1;32m   1454\u001b[0m             \u001b[0;34m[\u001b[0m\u001b[0mn_samples\u001b[0m\u001b[0;34m]\u001b[0m\u001b[0;34m.\u001b[0m\u001b[0;34m\u001b[0m\u001b[0m\n\u001b[1;32m   1455\u001b[0m         \"\"\"\n\u001b[0;32m-> 1456\u001b[0;31m         \u001b[0mX\u001b[0m \u001b[0;34m=\u001b[0m \u001b[0mcheck_array\u001b[0m\u001b[0;34m(\u001b[0m\u001b[0mX\u001b[0m\u001b[0;34m,\u001b[0m \u001b[0mdtype\u001b[0m\u001b[0;34m=\u001b[0m\u001b[0mDTYPE\u001b[0m\u001b[0;34m,\u001b[0m \u001b[0morder\u001b[0m\u001b[0;34m=\u001b[0m\u001b[0;34m\"C\"\u001b[0m\u001b[0;34m)\u001b[0m\u001b[0;34m\u001b[0m\u001b[0m\n\u001b[0m\u001b[1;32m   1457\u001b[0m         \u001b[0mscore\u001b[0m \u001b[0;34m=\u001b[0m \u001b[0mself\u001b[0m\u001b[0;34m.\u001b[0m\u001b[0m_decision_function\u001b[0m\u001b[0;34m(\u001b[0m\u001b[0mX\u001b[0m\u001b[0;34m)\u001b[0m\u001b[0;34m\u001b[0m\u001b[0m\n\u001b[1;32m   1458\u001b[0m         \u001b[0;32mif\u001b[0m \u001b[0mscore\u001b[0m\u001b[0;34m.\u001b[0m\u001b[0mshape\u001b[0m\u001b[0;34m[\u001b[0m\u001b[0;36m1\u001b[0m\u001b[0;34m]\u001b[0m \u001b[0;34m==\u001b[0m \u001b[0;36m1\u001b[0m\u001b[0;34m:\u001b[0m\u001b[0;34m\u001b[0m\u001b[0m\n",
      "\u001b[0;32m/Users/gapon/anaconda3/lib/python3.5/site-packages/sklearn/utils/validation.py\u001b[0m in \u001b[0;36mcheck_array\u001b[0;34m(array, accept_sparse, dtype, order, copy, force_all_finite, ensure_2d, allow_nd, ensure_min_samples, ensure_min_features, warn_on_dtype, estimator)\u001b[0m\n\u001b[1;32m    396\u001b[0m                              % (array.ndim, estimator_name))\n\u001b[1;32m    397\u001b[0m         \u001b[0;32mif\u001b[0m \u001b[0mforce_all_finite\u001b[0m\u001b[0;34m:\u001b[0m\u001b[0;34m\u001b[0m\u001b[0m\n\u001b[0;32m--> 398\u001b[0;31m             \u001b[0m_assert_all_finite\u001b[0m\u001b[0;34m(\u001b[0m\u001b[0marray\u001b[0m\u001b[0;34m)\u001b[0m\u001b[0;34m\u001b[0m\u001b[0m\n\u001b[0m\u001b[1;32m    399\u001b[0m \u001b[0;34m\u001b[0m\u001b[0m\n\u001b[1;32m    400\u001b[0m     \u001b[0mshape_repr\u001b[0m \u001b[0;34m=\u001b[0m \u001b[0m_shape_repr\u001b[0m\u001b[0;34m(\u001b[0m\u001b[0marray\u001b[0m\u001b[0;34m.\u001b[0m\u001b[0mshape\u001b[0m\u001b[0;34m)\u001b[0m\u001b[0;34m\u001b[0m\u001b[0m\n",
      "\u001b[0;32m/Users/gapon/anaconda3/lib/python3.5/site-packages/sklearn/utils/validation.py\u001b[0m in \u001b[0;36m_assert_all_finite\u001b[0;34m(X)\u001b[0m\n\u001b[1;32m     52\u001b[0m             and not np.isfinite(X).all()):\n\u001b[1;32m     53\u001b[0m         raise ValueError(\"Input contains NaN, infinity\"\n\u001b[0;32m---> 54\u001b[0;31m                          \" or a value too large for %r.\" % X.dtype)\n\u001b[0m\u001b[1;32m     55\u001b[0m \u001b[0;34m\u001b[0m\u001b[0m\n\u001b[1;32m     56\u001b[0m \u001b[0;34m\u001b[0m\u001b[0m\n",
      "\u001b[0;31mValueError\u001b[0m: Input contains NaN, infinity or a value too large for dtype('float32')."
     ]
    }
   ],
   "source": [
    "X_test = pd.read_csv('test/data-2017-05-29.csv', index_col=[0,1])\n",
    "\n",
    "ohe = OneHotEncoder(sparse=False)\n",
    "encoded_dow = ohe.fit_transform(X_test['dow'].values.reshape(-1, 1))\n",
    "tmp = pd.DataFrame(encoded_dow, columns=['dow_' + str(i) for i in range(encoded_dow.shape[1])], index = X_test.index)\n",
    "\n",
    "X_test = pd.concat([X_test, tmp], axis = 1)\n",
    "X_test = X_test.drop(['dow'], axis = 1)\n",
    "\n",
    "df = pd.DataFrame(index=X_test.index, columns=['worked'])\n",
    "df['worked'] = final_gb_clf.predict_proba(X_test)[:,1]\n",
    "df.to_csv('predictions/prediction-2017-05-29.csv')\n",
    "print('Output in YYYY-MM-DD.csv')"
   ]
  },
  {
   "cell_type": "code",
   "execution_count": 101,
   "metadata": {},
   "outputs": [
    {
     "name": "stdout",
     "output_type": "stream",
     "text": [
      "                      all_orders  days_since_last_dow_order  dow  dow_worked  \\\n",
      "master_id date                                                                 \n",
      "9532      2017-05-21           1                      521.0    0         NaN   \n",
      "          2017-05-22           1                        9.0    1         1.0   \n",
      "          2017-05-23           1                      521.0    2         NaN   \n",
      "          2017-05-17           1                      521.0    3         NaN   \n",
      "          2017-05-18           1                      521.0    4         NaN   \n",
      "\n",
      "                      total_dow  dow_worked_prc  age  rating  \\\n",
      "master_id date                                                 \n",
      "9532      2017-05-21          2             NaN   46     0.0   \n",
      "          2017-05-22          3        0.333333   46     0.0   \n",
      "          2017-05-23          3             NaN   46     0.0   \n",
      "          2017-05-17          2             NaN   46     0.0   \n",
      "          2017-05-18          2             NaN   46     0.0   \n",
      "\n",
      "                      whitelists_count  blacklists_count ...   iz_ruk_v_ruki  \\\n",
      "master_id date                                           ...                   \n",
      "9532      2017-05-21                 0                 0 ...               0   \n",
      "          2017-05-22                 0                 0 ...               0   \n",
      "          2017-05-23                 0                 0 ...               0   \n",
      "          2017-05-17                 0                 0 ...               0   \n",
      "          2017-05-18                 0                 0 ...               0   \n",
      "\n",
      "                      hi_brother  rabota_dlya_vas  actionpay  busy_morning  \\\n",
      "master_id date                                                               \n",
      "9532      2017-05-21           0                0          0             0   \n",
      "          2017-05-22           0                0          0             0   \n",
      "          2017-05-23           0                0          0             0   \n",
      "          2017-05-17           0                0          0             0   \n",
      "          2017-05-18           0                0          0             0   \n",
      "\n",
      "                      busy_afternoon  no_schedule  msk  spb  ekb  \n",
      "master_id date                                                    \n",
      "9532      2017-05-21               0            0    1    0    0  \n",
      "          2017-05-22               0            0    1    0    0  \n",
      "          2017-05-23               0            1    1    0    0  \n",
      "          2017-05-17               0            0    1    0    0  \n",
      "          2017-05-18               0            0    1    0    0  \n",
      "\n",
      "[5 rows x 49 columns]\n",
      "                      all_orders  days_since_last_dow_order  dow_worked  \\\n",
      "master_id date                                                            \n",
      "9532      2017-05-21           1                      521.0        -1.0   \n",
      "          2017-05-22           1                        9.0         1.0   \n",
      "          2017-05-23           1                      521.0        -1.0   \n",
      "          2017-05-17           1                      521.0        -1.0   \n",
      "          2017-05-18           1                      521.0        -1.0   \n",
      "\n",
      "                      total_dow  dow_worked_prc  age  rating  \\\n",
      "master_id date                                                 \n",
      "9532      2017-05-21          2       -1.000000   46     0.0   \n",
      "          2017-05-22          3        0.333333   46     0.0   \n",
      "          2017-05-23          3       -1.000000   46     0.0   \n",
      "          2017-05-17          2       -1.000000   46     0.0   \n",
      "          2017-05-18          2       -1.000000   46     0.0   \n",
      "\n",
      "                      whitelists_count  blacklists_count  rus_flg  ...    msk  \\\n",
      "master_id date                                                     ...          \n",
      "9532      2017-05-21                 0                 0        0  ...      1   \n",
      "          2017-05-22                 0                 0        0  ...      1   \n",
      "          2017-05-23                 0                 0        0  ...      1   \n",
      "          2017-05-17                 0                 0        0  ...      1   \n",
      "          2017-05-18                 0                 0        0  ...      1   \n",
      "\n",
      "                      spb  ekb  dow_0  dow_1  dow_2  dow_3  dow_4  dow_5  \\\n",
      "master_id date                                                             \n",
      "9532      2017-05-21    0    0    1.0    0.0    0.0    0.0    0.0    0.0   \n",
      "          2017-05-22    0    0    0.0    1.0    0.0    0.0    0.0    0.0   \n",
      "          2017-05-23    0    0    0.0    0.0    1.0    0.0    0.0    0.0   \n",
      "          2017-05-17    0    0    0.0    0.0    0.0    1.0    0.0    0.0   \n",
      "          2017-05-18    0    0    0.0    0.0    0.0    0.0    1.0    0.0   \n",
      "\n",
      "                      dow_6  \n",
      "master_id date               \n",
      "9532      2017-05-21    0.0  \n",
      "          2017-05-22    0.0  \n",
      "          2017-05-23    0.0  \n",
      "          2017-05-17    0.0  \n",
      "          2017-05-18    0.0  \n",
      "\n",
      "[5 rows x 55 columns]\n"
     ]
    }
   ],
   "source": [
    "X_test = read_csv('test/data-2017-05-16-nans.csv', index_col=[0,1])\n",
    "tmp = X_test['days_since_last_dow_order'].fillna(X_test['days_since_last_dow_order'].max())\n",
    "X_test['days_since_last_dow_order'] = tmp\n",
    "\n",
    "print(X_test.head())\n",
    "\n",
    "X_test = X_test.fillna(-1)\n",
    "\n",
    "\n",
    "ohe = OneHotEncoder(sparse=False)\n",
    "encoded_dow = ohe.fit_transform(X_test['dow'].values.reshape(-1, 1))\n",
    "tmp = pd.DataFrame(encoded_dow, columns=['dow_' + str(i) for i in range(encoded_dow.shape[1])], index = X_test.index)\n",
    "X_test = pd.concat([X_test, tmp], axis = 1)\n",
    "X_test = X_test.drop(['dow'], axis = 1)\n",
    "\n",
    "print(X_test.head())"
   ]
  },
  {
   "cell_type": "code",
   "execution_count": 102,
   "metadata": {},
   "outputs": [
    {
     "name": "stdout",
     "output_type": "stream",
     "text": [
      "Output in YYYY-MM-DD.csv\n"
     ]
    }
   ],
   "source": [
    "df = DataFrame(index=X_test.index, columns=['worked'])\n",
    "df['worked'] = final_gb_clf.predict_proba(X_test)[:,1]\n",
    "df.to_csv('predictions/prediction-2017-05-16-nas.csv')\n",
    "print('Output in YYYY-MM-DD.csv')"
   ]
  },
  {
   "cell_type": "code",
   "execution_count": 103,
   "metadata": {},
   "outputs": [
    {
     "name": "stdout",
     "output_type": "stream",
     "text": [
      "                        worked\n",
      "master_id date                \n",
      "121437    2017-05-21  0.430620\n",
      "          2017-05-22  0.878362\n",
      "          2017-05-23  0.010991\n",
      "          2017-05-17  0.827917\n",
      "          2017-05-18  0.847496\n",
      "          2017-05-19  0.290889\n",
      "          2017-05-20  0.326732\n"
     ]
    }
   ],
   "source": [
    "#df[index[0] == 125779 ]\n",
    "print(df.iloc[df.index.get_level_values('master_id') == 121437])\n",
    "#print(df.where(df.index[]==125779))\n",
    "#df.head(10)"
   ]
  },
  {
   "cell_type": "code",
   "execution_count": null,
   "metadata": {
    "collapsed": true
   },
   "outputs": [],
   "source": []
  }
 ],
 "metadata": {
  "kernelspec": {
   "display_name": "Python 3",
   "language": "python",
   "name": "python3"
  },
  "language_info": {
   "codemirror_mode": {
    "name": "ipython",
    "version": 3
   },
   "file_extension": ".py",
   "mimetype": "text/x-python",
   "name": "python",
   "nbconvert_exporter": "python",
   "pygments_lexer": "ipython3",
   "version": "3.5.2"
  }
 },
 "nbformat": 4,
 "nbformat_minor": 1
}
